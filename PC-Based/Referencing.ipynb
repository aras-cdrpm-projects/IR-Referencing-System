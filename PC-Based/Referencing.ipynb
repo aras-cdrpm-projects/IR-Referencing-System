{
 "cells": [
  {
   "cell_type": "code",
   "execution_count": 45,
   "metadata": {},
   "outputs": [],
   "source": [
    "import numpy as np\n",
    "import math\n",
    "import cv2\n",
    "from matplotlib import pyplot as plt\n",
    "import time"
   ]
  },
  {
   "cell_type": "code",
   "execution_count": 60,
   "metadata": {},
   "outputs": [],
   "source": [
    "camParams = np.load('../Calib/camParams.npy')\n",
    "camParams = np.load('../Calib/distCoeff.npy')"
   ]
  },
  {
   "cell_type": "code",
   "execution_count": 6,
   "metadata": {},
   "outputs": [],
   "source": [
    "frame2 = cv2.imread('../Tests/Frame2.jpg')\n",
    "frame3 = cv2.imread('../Tests/Frame2.jpg')\n",
    "frame4 = cv2.imread('../Tests/Frame2.jpg')\n",
    "frame5 = cv2.imread('../Tests/Frame2.jpg')"
   ]
  },
  {
   "cell_type": "code",
   "execution_count": 11,
   "metadata": {},
   "outputs": [
    {
     "data": {
      "text/plain": [
       "-1"
      ]
     },
     "execution_count": 11,
     "metadata": {},
     "output_type": "execute_result"
    }
   ],
   "source": [
    "cv2.imshow(\"frame2\", frame2)\n",
    "cv2.waitKey(0)"
   ]
  },
  {
   "cell_type": "code",
   "execution_count": 13,
   "metadata": {},
   "outputs": [],
   "source": [
    "gray = cv2.cvtColor(frame2, cv2.COLOR_BGR2GRAY)\n",
    "nonzero = cv2.findNonZero(gray)\n",
    "nonzero = np.array(nonzero).reshape(nonzero.shape[0], 2)\n",
    "nonzero = np.float32(nonzero)\n",
    "criteria = (cv2.TERM_CRITERIA_EPS + cv2.TERM_CRITERIA_MAX_ITER, 4, 1.0)\n",
    "ret,label,center = cv2.kmeans(nonzero,4,None,criteria,4,cv2.KMEANS_RANDOM_CENTERS)"
   ]
  },
  {
   "cell_type": "code",
   "execution_count": 15,
   "metadata": {},
   "outputs": [],
   "source": [
    "A = nonzero[label.ravel()==0]\n",
    "B = nonzero[label.ravel()==1]\n",
    "C = nonzero[label.ravel()==2]\n",
    "D = nonzero[label.ravel()==3]"
   ]
  },
  {
   "cell_type": "code",
   "execution_count": 16,
   "metadata": {},
   "outputs": [
    {
     "data": {
      "image/png": "[encoded data removed]",
      "text/plain": [
       "<Figure size 432x288 with 1 Axes>"
      ]
     },
     "metadata": {
      "needs_background": "light"
     },
     "output_type": "display_data"
    }
   ],
   "source": [
    "plt.scatter(A[:,0],A[:,1])\n",
    "plt.scatter(B[:,0],B[:,1],c = 'r')\n",
    "plt.scatter(C[:,0],C[:,1],c = 'b')\n",
    "plt.scatter(D[:,0],D[:,1],c = 'g')\n",
    "plt.xlabel('Height'),plt.ylabel('Weight')\n",
    "plt.scatter(center[:,0],center[:,1])\n",
    "plt.show()"
   ]
  },
  {
   "cell_type": "code",
   "execution_count": 31,
   "metadata": {},
   "outputs": [
    {
     "data": {
      "text/plain": [
       "array([[287.30658, 416.88947],\n",
       "       [573.3016 , 146.29932],\n",
       "       [626.45306, 355.2213 ],\n",
       "       [247.25398, 198.04962]], dtype=float32)"
      ]
     },
     "execution_count": 31,
     "metadata": {},
     "output_type": "execute_result"
    }
   ],
   "source": [
    "center"
   ]
  },
  {
   "cell_type": "code",
   "execution_count": 27,
   "metadata": {},
   "outputs": [
    {
     "data": {
      "text/plain": [
       "-1"
      ]
     },
     "execution_count": 27,
     "metadata": {},
     "output_type": "execute_result"
    }
   ],
   "source": [
    "test=frame2.copy()\n",
    "cv2.circle(test,(int(center[0, 0]),int(center[0, 1])), 3, (0,0,255), -1)\n",
    "cv2.imshow(\"frame2\", test)\n",
    "cv2.waitKey(0)"
   ]
  },
  {
   "cell_type": "code",
   "execution_count": 29,
   "metadata": {},
   "outputs": [],
   "source": [
    "LED=np.zeros((4,2))\n",
    "origin = ((center[0,0]+center[1,0]+center[2,0]+center[3,0])/4, (center[0,1]+center[1,1]+center[2,1]+center[3,1])/4)\n",
    "for j in range(4):\n",
    "    LED[j]=center[j]-origin\n",
    "LED_lab=np.array([[LED[(LED[:, 0]>0) & (LED[:, 1]>0)][0][0]+origin[0],LED[(LED[:, 0]>0) & (LED[:, 1]>0)][0][1]+origin[1]],\n",
    " [LED[(LED[:, 0]<0) & (LED[:, 1]>0)][0][0]+origin[0],LED[(LED[:, 0]<0) & (LED[:, 1]>0)][0][1]+origin[1]],\n",
    " [LED[(LED[:, 0]>0) & (LED[:, 1]<0)][0][0]+origin[0],LED[(LED[:, 0]>0) & (LED[:, 1]<0)][0][1]+origin[1]],\n",
    " [LED[(LED[:, 0]<0) & (LED[:, 1]<0)][0][0]+origin[0],LED[(LED[:, 0]<0) & (LED[:, 1]<0)][0][1]+origin[1]]])"
   ]
  },
  {
   "cell_type": "code",
   "execution_count": 33,
   "metadata": {},
   "outputs": [
    {
     "name": "stdout",
     "output_type": "stream",
     "text": [
      "(4, 2)\n",
      "[[626.45306396 355.22131348]\n",
      " [287.30657959 416.88946533]\n",
      " [573.30157471 146.29931641]\n",
      " [247.25398254 198.04962158]]\n"
     ]
    }
   ],
   "source": [
    "print(LED_lab.shape)\n",
    "print(LED_lab)"
   ]
  },
  {
   "cell_type": "code",
   "execution_count": 56,
   "metadata": {},
   "outputs": [],
   "source": [
    "# UR, UL, LR, LL\n",
    "obj_points = np.array([[0.1, 0.065, 0], [0, 0.065, 0], [0.1, 0, 0], [0, 0, 0]])\n",
    "cameraMatrix = camParams"
   ]
  },
  {
   "cell_type": "code",
   "execution_count": 57,
   "metadata": {},
   "outputs": [
    {
     "data": {
      "text/plain": [
       "array([[510.238 ,   0.    ,   0.    ],\n",
       "       [  0.    , 510.7767,   0.    ],\n",
       "       [327.4291, 246.0902,   1.    ]])"
      ]
     },
     "execution_count": 57,
     "metadata": {},
     "output_type": "execute_result"
    }
   ],
   "source": [
    "cameraMatrix"
   ]
  },
  {
   "cell_type": "code",
   "execution_count": 58,
   "metadata": {},
   "outputs": [],
   "source": [
    "ret, rvec, tvec = cv2.solvePnP(obj_points, LED_lab, cameraMatrix, 0)"
   ]
  },
  {
   "cell_type": "code",
   "execution_count": 59,
   "metadata": {},
   "outputs": [
    {
     "data": {
      "text/plain": [
       "array([[-0.03994818],\n",
       "       [ 0.02659258],\n",
       "       [-0.18411472]])"
      ]
     },
     "execution_count": 59,
     "metadata": {},
     "output_type": "execute_result"
    }
   ],
   "source": [
    "rvec"
   ]
  },
  {
   "cell_type": "code",
   "execution_count": 39,
   "metadata": {},
   "outputs": [],
   "source": [
    "dst, jac = cv2.Rodrigues(rvec)"
   ]
  },
  {
   "cell_type": "code",
   "execution_count": 42,
   "metadata": {},
   "outputs": [
    {
     "data": {
      "text/plain": [
       "array([[ 0.85467402, -0.18797896,  0.48393826],\n",
       "       [-0.07630324, -0.96750685, -0.24105663],\n",
       "       [ 0.51352716,  0.16909878, -0.84124637]])"
      ]
     },
     "execution_count": 42,
     "metadata": {},
     "output_type": "execute_result"
    }
   ],
   "source": [
    "dst"
   ]
  },
  {
   "cell_type": "code",
   "execution_count": 46,
   "metadata": {},
   "outputs": [],
   "source": [
    "def isRotationMatrix(R) :\n",
    "    Rt = np.transpose(R)\n",
    "    shouldBeIdentity = np.dot(Rt, R)\n",
    "    I = np.identity(3, dtype = R.dtype)\n",
    "    n = np.linalg.norm(I - shouldBeIdentity)\n",
    "    return n < 1e-6\n",
    "\n",
    "def rotationMatrixToEulerAngles(R) :\n",
    " \n",
    "    assert(isRotationMatrix(R))\n",
    "     \n",
    "    sy = math.sqrt(R[0,0] * R[0,0] +  R[1,0] * R[1,0])\n",
    "     \n",
    "    singular = sy < 1e-6\n",
    " \n",
    "    if  not singular :\n",
    "        x = math.atan2(R[2,1] , R[2,2])\n",
    "        y = math.atan2(-R[2,0], sy)\n",
    "        z = math.atan2(R[1,0], R[0,0])\n",
    "    else :\n",
    "        x = math.atan2(-R[1,2], R[1,1])\n",
    "        y = math.atan2(-R[2,0], sy)\n",
    "        z = 0\n",
    " \n",
    "    return np.array([x, y, z])"
   ]
  },
  {
   "cell_type": "code",
   "execution_count": 50,
   "metadata": {},
   "outputs": [],
   "source": [
    "euler_flipped = rotationMatrixToEulerAngles(dst)\n",
    "euler = np.flip(euler_flipped)"
   ]
  }
 ],
 "metadata": {
  "kernelspec": {
   "display_name": "Python 3",
   "language": "python",
   "name": "python3"
  },
  "language_info": {
   "codemirror_mode": {
    "name": "ipython",
    "version": 3
   },
   "file_extension": ".py",
   "mimetype": "text/x-python",
   "name": "python",
   "nbconvert_exporter": "python",
   "pygments_lexer": "ipython3",
   "version": "3.7.1"
  }
 },
 "nbformat": 4,
 "nbformat_minor": 2
}
