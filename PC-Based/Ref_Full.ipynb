{
 "cells": [
  {
   "cell_type": "code",
   "execution_count": 23,
   "metadata": {},
   "outputs": [],
   "source": [
    "import numpy as np\n",
    "import math\n",
    "import cv2\n",
    "from matplotlib import pyplot as plt\n",
    "import time\n",
    "import tables\n",
    "from scipy.io import loadmat"
   ]
  },
  {
   "cell_type": "code",
   "execution_count": 24,
   "metadata": {},
   "outputs": [],
   "source": [
    "camParams = np.load('../Calib/secondCalib/camParams.npy')\n",
    "dist_coeffs = np.load('../Calib/secondCalib/distCoeff.npy')\n",
    "point1 = cv2.imread('../Tests/secondTest/point1.jpg')\n",
    "point2 = cv2.imread('../Tests/secondTest/point2.jpg')\n",
    "point3 = cv2.imread('../Tests/secondTest/point3.jpg')\n",
    "point4 = cv2.imread('../Tests/secondTest/point4.jpg')\n",
    "point5 = cv2.imread('../Tests/secondTest/point5.jpg')\n",
    "point6 = cv2.imread('../Tests/secondTest/point6.jpg')"
   ]
  },
  {
   "cell_type": "code",
   "execution_count": 25,
   "metadata": {},
   "outputs": [
    {
     "data": {
      "text/plain": [
       "array([[512.10571572,   0.        ,   0.        ],\n",
       "       [  0.        , 512.29967519,   0.        ],\n",
       "       [324.93693113, 242.11127231,   1.        ]])"
      ]
     },
     "execution_count": 25,
     "metadata": {},
     "output_type": "execute_result"
    }
   ],
   "source": [
    "camParams"
   ]
  },
  {
   "cell_type": "code",
   "execution_count": 266,
   "metadata": {},
   "outputs": [],
   "source": [
    "criteria = (cv2.TERM_CRITERIA_EPS + cv2.TERM_CRITERIA_MAX_ITER, 4, 1.0)\n",
    "obj_points = np.array([[0.1, 0.065, 0], [0, 0.065, 0], [0.1, 0, 0], [0, 0, 0]])\n",
    "dist_coeffs= np.array([-0.405925403776238, 0.206430617505333, 0, 0, 0], dtype = np.float32)\n",
    "cameraMatrix = camParams\n",
    "def centerExt(frame):\n",
    "    LED=np.zeros((4,2))\n",
    "    gray = cv2.cvtColor(frame, cv2.COLOR_BGR2GRAY)\n",
    "    nonzero = cv2.findNonZero(gray)\n",
    "    nonzero = np.array(nonzero).reshape(nonzero.shape[0], 2)\n",
    "    nonzero = np.float32(nonzero)\n",
    "    ret,label,center = cv2.kmeans(nonzero,4,None,criteria,4,cv2.KMEANS_RANDOM_CENTERS)\n",
    "    origin = ((center[0,0]+center[1,0]+center[2,0]+center[3,0])/4, (center[0,1]+center[1,1]+center[2,1]+center[3,1])/4)\n",
    "    for j in range(4):\n",
    "        LED[j]=center[j]-origin\n",
    "    LED_lab=np.array([[LED[(LED[:, 0]>0) & (LED[:, 1]>0)][0][0]+origin[0],LED[(LED[:, 0]>0) & (LED[:, 1]>0)][0][1]+origin[1]],\n",
    "                      [LED[(LED[:, 0]<0) & (LED[:, 1]>0)][0][0]+origin[0],LED[(LED[:, 0]<0) & (LED[:, 1]>0)][0][1]+origin[1]],\n",
    "                      [LED[(LED[:, 0]>0) & (LED[:, 1]<0)][0][0]+origin[0],LED[(LED[:, 0]>0) & (LED[:, 1]<0)][0][1]+origin[1]],\n",
    "                      [LED[(LED[:, 0]<0) & (LED[:, 1]<0)][0][0]+origin[0],LED[(LED[:, 0]<0) & (LED[:, 1]<0)][0][1]+origin[1]]])\n",
    "    #cv2.circle(frame,(int(LED_lab[0, 0]), int(LED_lab[0, 1])), 5, (255,255,255), -1)\n",
    "    #cv2.imshow('t', frame)\n",
    "    #cv2.waitKey(0)\n",
    "    return LED_lab"
   ]
  },
  {
   "cell_type": "code",
   "execution_count": 267,
   "metadata": {},
   "outputs": [],
   "source": [
    "def isRotationMatrix(R) :\n",
    "    Rt = np.transpose(R)\n",
    "    shouldBeIdentity = np.dot(Rt, R)\n",
    "    I = np.identity(3, dtype = R.dtype)\n",
    "    n = np.linalg.norm(I - shouldBeIdentity)\n",
    "    return n < 1e-6\n",
    "\n",
    "def rotationMatrixToEulerAngles(R) :\n",
    "    assert(isRotationMatrix(R))\n",
    "    sy = math.sqrt(R[0,0] * R[0,0] +  R[1,0] * R[1,0])\n",
    "    singular = sy < 1e-6\n",
    "    if  not singular :\n",
    "        x = math.atan2(R[2,1] , R[2,2])\n",
    "        y = math.atan2(-R[2,0], sy)\n",
    "        z = math.atan2(R[1,0], R[0,0])\n",
    "    else :\n",
    "        x = math.atan2(-R[1,2], R[1,1])\n",
    "        y = math.atan2(-R[2,0], sy)\n",
    "        z = 0\n",
    "    return np.array([x, y, z])"
   ]
  },
  {
   "cell_type": "code",
   "execution_count": 268,
   "metadata": {},
   "outputs": [],
   "source": [
    "LED_lab2 = centerExt(point1)\n",
    "LED_lab3 = centerExt(point6)"
   ]
  },
  {
   "cell_type": "code",
   "execution_count": 269,
   "metadata": {},
   "outputs": [
    {
     "data": {
      "text/plain": [
       "array([[484.73638916, 318.30960083],\n",
       "       [275.95812988, 321.52557373],\n",
       "       [476.27102661, 185.36915588],\n",
       "       [276.37380981, 193.07475281]])"
      ]
     },
     "execution_count": 269,
     "metadata": {},
     "output_type": "execute_result"
    }
   ],
   "source": [
    "LED_lab2"
   ]
  },
  {
   "cell_type": "code",
   "execution_count": 270,
   "metadata": {},
   "outputs": [
    {
     "data": {
      "text/plain": [
       "array([[0.1  , 0.065, 0.   ],\n",
       "       [0.   , 0.065, 0.   ],\n",
       "       [0.1  , 0.   , 0.   ],\n",
       "       [0.   , 0.   , 0.   ]])"
      ]
     },
     "execution_count": 270,
     "metadata": {},
     "output_type": "execute_result"
    }
   ],
   "source": [
    "obj_points"
   ]
  },
  {
   "cell_type": "code",
   "execution_count": 271,
   "metadata": {},
   "outputs": [
    {
     "data": {
      "text/plain": [
       "(4, 1, 2)"
      ]
     },
     "execution_count": 271,
     "metadata": {},
     "output_type": "execute_result"
    }
   ],
   "source": [
    "testpts = np.array(LED_lab2).reshape(4, 1, 2)\n",
    "testpts.shape"
   ]
  },
  {
   "cell_type": "code",
   "execution_count": 272,
   "metadata": {},
   "outputs": [],
   "source": [
    "pts_test = cv2.undistortPoints(testpts, cameraMatrix, dist_coeffs.astype(np.float32))"
   ]
  },
  {
   "cell_type": "code",
   "execution_count": 289,
   "metadata": {},
   "outputs": [],
   "source": [
    "ret2, rvec2, tvec2 = cv2.solvePnP(obj_points, LED_lab2.reshape(4, 1, 2), cameraMatrix, dist_coeffs, 5)\n",
    "dst2, jac2 = cv2.Rodrigues(rvec2)\n",
    "ret3, rvec3, tvec3 = cv2.solvePnP(obj_points, LED_lab3.reshape(4, 1, 2), cameraMatrix, dist_coeffs, 5)\n",
    "dst3, jac3 = cv2.Rodrigues(rvec3)"
   ]
  },
  {
   "cell_type": "code",
   "execution_count": 290,
   "metadata": {},
   "outputs": [
    {
     "data": {
      "text/plain": [
       "-6.606661248027808"
      ]
     },
     "execution_count": 290,
     "metadata": {},
     "output_type": "execute_result"
    }
   ],
   "source": [
    "np.linalg.norm(rvec3)*180/math.pi - np.linalg.norm(rvec2)*180/math.pi"
   ]
  },
  {
   "cell_type": "code",
   "execution_count": 291,
   "metadata": {},
   "outputs": [],
   "source": [
    "euler_flipped2 = rotationMatrixToEulerAngles(dst2)\n",
    "euler2 = np.flip(euler_flipped2)\n",
    "euler_flipped3 = rotationMatrixToEulerAngles(dst3)\n",
    "euler3 = np.flip(euler_flipped3)"
   ]
  },
  {
   "cell_type": "code",
   "execution_count": 292,
   "metadata": {},
   "outputs": [
    {
     "name": "stdout",
     "output_type": "stream",
     "text": [
      "[-2.27329611 -8.52873305  7.49612156]\n",
      "[ 0.02735115 -2.42299391  4.21042285]\n"
     ]
    }
   ],
   "source": [
    "print(euler2*180/math.pi)\n",
    "print(euler3*180/math.pi)"
   ]
  },
  {
   "cell_type": "code",
   "execution_count": 293,
   "metadata": {},
   "outputs": [
    {
     "data": {
      "text/plain": [
       "array([ 0.04015387,  0.10656525, -0.05734626])"
      ]
     },
     "execution_count": 293,
     "metadata": {},
     "output_type": "execute_result"
    }
   ],
   "source": [
    "diff_euler = (euler3-euler2)\n",
    "diff_euler"
   ]
  },
  {
   "cell_type": "code",
   "execution_count": 294,
   "metadata": {},
   "outputs": [],
   "source": [
    "r_diff=np.matmul(dst3, dst2.transpose())"
   ]
  },
  {
   "cell_type": "code",
   "execution_count": 295,
   "metadata": {},
   "outputs": [],
   "source": [
    "r_diff_euler = np.flip(rotationMatrixToEulerAngles(r_diff))*180/math.pi"
   ]
  },
  {
   "cell_type": "code",
   "execution_count": 296,
   "metadata": {},
   "outputs": [
    {
     "data": {
      "text/plain": [
       "array([ 1.82051795,  6.21778852, -3.05662294])"
      ]
     },
     "execution_count": 296,
     "metadata": {},
     "output_type": "execute_result"
    }
   ],
   "source": [
    "r_diff_euler"
   ]
  }
 ],
 "metadata": {
  "kernelspec": {
   "display_name": "Python 3",
   "language": "python",
   "name": "python3"
  },
  "language_info": {
   "codemirror_mode": {
    "name": "ipython",
    "version": 3
   },
   "file_extension": ".py",
   "mimetype": "text/x-python",
   "name": "python",
   "nbconvert_exporter": "python",
   "pygments_lexer": "ipython3",
   "version": "3.7.1"
  }
 },
 "nbformat": 4,
 "nbformat_minor": 2
}
